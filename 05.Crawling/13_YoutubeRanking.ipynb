{
 "cells": [
  {
   "cell_type": "markdown",
   "metadata": {},
   "source": [
    "## YouTube Ranking"
   ]
  },
  {
   "cell_type": "code",
   "execution_count": 43,
   "metadata": {},
   "outputs": [],
   "source": [
    "from selenium import webdriver\n",
    "from bs4 import BeautifulSoup\n",
    "import time\n",
    "import pandas as pd"
   ]
  },
  {
   "cell_type": "markdown",
   "metadata": {},
   "source": [
    "- Step 1, 2"
   ]
  },
  {
   "cell_type": "code",
   "execution_count": 44,
   "metadata": {},
   "outputs": [],
   "source": [
    "url = 'https://youtube-rank.com/board/bbs/board.php?bo_table=youtube'\n",
    "driver = webdriver.Chrome('chromedriver')\n",
    "driver.get(url)\n",
    "time.sleep(2)"
   ]
  },
  {
   "cell_type": "code",
   "execution_count": 45,
   "metadata": {},
   "outputs": [
    {
     "data": {
      "text/plain": [
       "100"
      ]
     },
     "execution_count": 45,
     "metadata": {},
     "output_type": "execute_result"
    }
   ],
   "source": [
    "soup = BeautifulSoup(driver.page_source, 'html.parser')\n",
    "trs = soup.select('tr.aos-init')\n",
    "len(trs)"
   ]
  },
  {
   "cell_type": "markdown",
   "metadata": {},
   "source": [
    "- Step 3"
   ]
  },
  {
   "cell_type": "code",
   "execution_count": 46,
   "metadata": {},
   "outputs": [
    {
     "data": {
      "text/plain": [
       "'1'"
      ]
     },
     "execution_count": 46,
     "metadata": {},
     "output_type": "execute_result"
    }
   ],
   "source": [
    "tr = trs[0]\n",
    "\n",
    "# 순위\n",
    "tr.select_one('.rank').get_text().strip()"
   ]
  },
  {
   "cell_type": "code",
   "execution_count": 47,
   "metadata": {},
   "outputs": [
    {
     "data": {
      "text/plain": [
       "'음악/댄스/가수'"
      ]
     },
     "execution_count": 47,
     "metadata": {},
     "output_type": "execute_result"
    }
   ],
   "source": [
    "# 카테고리\n",
    "tr.select_one('.category').get_text().strip()[1:-1]"
   ]
  },
  {
   "cell_type": "code",
   "execution_count": 48,
   "metadata": {},
   "outputs": [
    {
     "data": {
      "text/plain": [
       "'BLACKPINK'"
      ]
     },
     "execution_count": 48,
     "metadata": {},
     "output_type": "execute_result"
    }
   ],
   "source": [
    "# 채널명\n",
    "tr.select_one('.subject a').get_text().strip()"
   ]
  },
  {
   "cell_type": "code",
   "execution_count": 49,
   "metadata": {},
   "outputs": [
    {
     "data": {
      "text/plain": [
       "('7350만', '233억1663만', '394개')"
      ]
     },
     "execution_count": 49,
     "metadata": {},
     "output_type": "execute_result"
    }
   ],
   "source": [
    "# 구독자, 조회, 비디오 갯수\n",
    "subscriber = tr.select_one('.subscriber_cnt').get_text().strip()\n",
    "view = tr.select_one('.view_cnt').get_text().strip()\n",
    "video = tr.select_one('.video_cnt').get_text().strip()\n",
    "subscriber, view, video"
   ]
  },
  {
   "cell_type": "markdown",
   "metadata": {},
   "source": [
    "- Step 4"
   ]
  },
  {
   "cell_type": "code",
   "execution_count": 50,
   "metadata": {},
   "outputs": [
    {
     "data": {
      "text/html": [
       "<div>\n",
       "<style scoped>\n",
       "    .dataframe tbody tr th:only-of-type {\n",
       "        vertical-align: middle;\n",
       "    }\n",
       "\n",
       "    .dataframe tbody tr th {\n",
       "        vertical-align: top;\n",
       "    }\n",
       "\n",
       "    .dataframe thead th {\n",
       "        text-align: right;\n",
       "    }\n",
       "</style>\n",
       "<table border=\"1\" class=\"dataframe\">\n",
       "  <thead>\n",
       "    <tr style=\"text-align: right;\">\n",
       "      <th></th>\n",
       "      <th>순위</th>\n",
       "      <th>카테고리</th>\n",
       "      <th>채널</th>\n",
       "      <th>구독자수</th>\n",
       "      <th>조회수</th>\n",
       "      <th>비디오수</th>\n",
       "    </tr>\n",
       "  </thead>\n",
       "  <tbody>\n",
       "    <tr>\n",
       "      <th>0</th>\n",
       "      <td>1</td>\n",
       "      <td>음악/댄스/가수</td>\n",
       "      <td>BLACKPINK</td>\n",
       "      <td>7350만</td>\n",
       "      <td>233억1663만</td>\n",
       "      <td>394개</td>\n",
       "    </tr>\n",
       "    <tr>\n",
       "      <th>1</th>\n",
       "      <td>2</td>\n",
       "      <td>음악/댄스/가수</td>\n",
       "      <td>BANGTANTV</td>\n",
       "      <td>6550만</td>\n",
       "      <td>157억9463만</td>\n",
       "      <td>1,686개</td>\n",
       "    </tr>\n",
       "    <tr>\n",
       "      <th>2</th>\n",
       "      <td>3</td>\n",
       "      <td>음악/댄스/가수</td>\n",
       "      <td>HYBE LABELS</td>\n",
       "      <td>6500만</td>\n",
       "      <td>221억9069만</td>\n",
       "      <td>818개</td>\n",
       "    </tr>\n",
       "    <tr>\n",
       "      <th>3</th>\n",
       "      <td>4</td>\n",
       "      <td>음악/댄스/가수</td>\n",
       "      <td>SMTOWN</td>\n",
       "      <td>3030만</td>\n",
       "      <td>243억1077만</td>\n",
       "      <td>3,895개</td>\n",
       "    </tr>\n",
       "    <tr>\n",
       "      <th>4</th>\n",
       "      <td>5</td>\n",
       "      <td>키즈/어린이</td>\n",
       "      <td>Boram Tube Vlog [보람튜브 브이로그]</td>\n",
       "      <td>2650만</td>\n",
       "      <td>110억5288만</td>\n",
       "      <td>223개</td>\n",
       "    </tr>\n",
       "  </tbody>\n",
       "</table>\n",
       "</div>"
      ],
      "text/plain": [
       "  순위      카테고리                           채널   구독자수        조회수    비디오수\n",
       "0  1  음악/댄스/가수                    BLACKPINK  7350만  233억1663만    394개\n",
       "1  2  음악/댄스/가수                    BANGTANTV  6550만  157억9463만  1,686개\n",
       "2  3  음악/댄스/가수                  HYBE LABELS  6500만  221억9069만    818개\n",
       "3  4  음악/댄스/가수                       SMTOWN  3030만  243억1077만  3,895개\n",
       "4  5    키즈/어린이  Boram Tube Vlog [보람튜브 브이로그]  2650만  110억5288만    223개"
      ]
     },
     "execution_count": 50,
     "metadata": {},
     "output_type": "execute_result"
    }
   ],
   "source": [
    "lines = []\n",
    "for tr in trs:\n",
    "    rank = tr.select_one('.rank').get_text().strip()\n",
    "    category = tr.select_one('.category').get_text().strip()[1:-1]\n",
    "    subject = tr.select_one('.subject a').get_text().strip()\n",
    "    subscriber = tr.select_one('.subscriber_cnt').get_text().strip()\n",
    "    view = tr.select_one('.view_cnt').get_text().strip()\n",
    "    video = tr.select_one('.video_cnt').get_text().strip()\n",
    "    lines.append([rank, category, subject, subscriber, view, video])\n",
    "df = pd.DataFrame(lines, columns = ['순위','카테고리','채널','구독자수','조회수','비디오수'])\n",
    "df.head()\n"
   ]
  },
  {
   "cell_type": "code",
   "execution_count": 51,
   "metadata": {},
   "outputs": [],
   "source": [
    "# 숫자로 바꿔주는 함수\n",
    "def convert_unit(s):\n",
    "    s = s.replace('억','').replace('개','').replace(',','').replace('만','0000')\n",
    "    return f'{int(s):,d}'"
   ]
  },
  {
   "cell_type": "code",
   "execution_count": 52,
   "metadata": {},
   "outputs": [
    {
     "data": {
      "text/plain": [
       "'23,316,630,000'"
      ]
     },
     "execution_count": 52,
     "metadata": {},
     "output_type": "execute_result"
    }
   ],
   "source": [
    "convert_unit('233억1663만')"
   ]
  },
  {
   "cell_type": "code",
   "execution_count": 53,
   "metadata": {},
   "outputs": [
    {
     "data": {
      "text/html": [
       "<div>\n",
       "<style scoped>\n",
       "    .dataframe tbody tr th:only-of-type {\n",
       "        vertical-align: middle;\n",
       "    }\n",
       "\n",
       "    .dataframe tbody tr th {\n",
       "        vertical-align: top;\n",
       "    }\n",
       "\n",
       "    .dataframe thead th {\n",
       "        text-align: right;\n",
       "    }\n",
       "</style>\n",
       "<table border=\"1\" class=\"dataframe\">\n",
       "  <thead>\n",
       "    <tr style=\"text-align: right;\">\n",
       "      <th></th>\n",
       "      <th>순위</th>\n",
       "      <th>카테고리</th>\n",
       "      <th>채널</th>\n",
       "      <th>구독자수</th>\n",
       "      <th>조회수</th>\n",
       "      <th>비디오수</th>\n",
       "    </tr>\n",
       "  </thead>\n",
       "  <tbody>\n",
       "    <tr>\n",
       "      <th>0</th>\n",
       "      <td>1</td>\n",
       "      <td>음악/댄스/가수</td>\n",
       "      <td>BLACKPINK</td>\n",
       "      <td>73,500,000</td>\n",
       "      <td>23,316,630,000</td>\n",
       "      <td>394</td>\n",
       "    </tr>\n",
       "    <tr>\n",
       "      <th>1</th>\n",
       "      <td>2</td>\n",
       "      <td>음악/댄스/가수</td>\n",
       "      <td>BANGTANTV</td>\n",
       "      <td>65,500,000</td>\n",
       "      <td>15,794,630,000</td>\n",
       "      <td>1,686</td>\n",
       "    </tr>\n",
       "    <tr>\n",
       "      <th>2</th>\n",
       "      <td>3</td>\n",
       "      <td>음악/댄스/가수</td>\n",
       "      <td>HYBE LABELS</td>\n",
       "      <td>65,000,000</td>\n",
       "      <td>22,190,690,000</td>\n",
       "      <td>818</td>\n",
       "    </tr>\n",
       "    <tr>\n",
       "      <th>3</th>\n",
       "      <td>4</td>\n",
       "      <td>음악/댄스/가수</td>\n",
       "      <td>SMTOWN</td>\n",
       "      <td>30,300,000</td>\n",
       "      <td>24,310,770,000</td>\n",
       "      <td>3,895</td>\n",
       "    </tr>\n",
       "    <tr>\n",
       "      <th>4</th>\n",
       "      <td>5</td>\n",
       "      <td>키즈/어린이</td>\n",
       "      <td>Boram Tube Vlog [보람튜브 브이로그]</td>\n",
       "      <td>26,500,000</td>\n",
       "      <td>11,052,880,000</td>\n",
       "      <td>223</td>\n",
       "    </tr>\n",
       "  </tbody>\n",
       "</table>\n",
       "</div>"
      ],
      "text/plain": [
       "  순위      카테고리                           채널        구독자수             조회수   비디오수\n",
       "0  1  음악/댄스/가수                    BLACKPINK  73,500,000  23,316,630,000    394\n",
       "1  2  음악/댄스/가수                    BANGTANTV  65,500,000  15,794,630,000  1,686\n",
       "2  3  음악/댄스/가수                  HYBE LABELS  65,000,000  22,190,690,000    818\n",
       "3  4  음악/댄스/가수                       SMTOWN  30,300,000  24,310,770,000  3,895\n",
       "4  5    키즈/어린이  Boram Tube Vlog [보람튜브 브이로그]  26,500,000  11,052,880,000    223"
      ]
     },
     "execution_count": 53,
     "metadata": {},
     "output_type": "execute_result"
    }
   ],
   "source": [
    "for column in df.columns[3:]:\n",
    "    df[column] = df[column].apply(convert_unit)\n",
    "df.head()"
   ]
  },
  {
   "cell_type": "markdown",
   "metadata": {},
   "source": [
    "- Step 6: 모든 페이지"
   ]
  },
  {
   "cell_type": "code",
   "execution_count": 54,
   "metadata": {},
   "outputs": [],
   "source": [
    "from tqdm.notebook import tqdm"
   ]
  },
  {
   "cell_type": "code",
   "execution_count": 55,
   "metadata": {},
   "outputs": [],
   "source": [
    "driver = webdriver.Chrome('chromedriver')"
   ]
  },
  {
   "cell_type": "code",
   "execution_count": 56,
   "metadata": {},
   "outputs": [
    {
     "data": {
      "application/vnd.jupyter.widget-view+json": {
       "model_id": "b0baf13484dc42ed8cb1653547e5ff67",
       "version_major": 2,
       "version_minor": 0
      },
      "text/plain": [
       "  0%|          | 0/10 [00:00<?, ?it/s]"
      ]
     },
     "metadata": {},
     "output_type": "display_data"
    }
   ],
   "source": [
    "lines = []\n",
    "for page in tqdm(range(1, 11)):\n",
    "    url = 'https://youtube-rank.com/board/bbs/board.php?bo_table=youtube&page='+str(page)\n",
    "    driver.get(url)\n",
    "    time.sleep(2)\n",
    "    soup = BeautifulSoup(driver.page_source, 'html.parser')\n",
    "    trs = soup.select('tr.aos-init')\n",
    "    for tr in trs:\n",
    "        rank = tr.select_one('.rank').get_text().strip()\n",
    "        category = tr.select_one('.category').get_text().strip()[1:-1]\n",
    "        subject = tr.select_one('.subject a').get_text().strip()\n",
    "        subscriber = tr.select_one('.subscriber_cnt').get_text().strip()\n",
    "        view = tr.select_one('.view_cnt').get_text().strip()\n",
    "        video = tr.select_one('.video_cnt').get_text().strip()\n",
    "        lines.append([rank, category, subject, subscriber, view, video])"
   ]
  },
  {
   "cell_type": "code",
   "execution_count": 57,
   "metadata": {},
   "outputs": [
    {
     "data": {
      "text/html": [
       "<div>\n",
       "<style scoped>\n",
       "    .dataframe tbody tr th:only-of-type {\n",
       "        vertical-align: middle;\n",
       "    }\n",
       "\n",
       "    .dataframe tbody tr th {\n",
       "        vertical-align: top;\n",
       "    }\n",
       "\n",
       "    .dataframe thead th {\n",
       "        text-align: right;\n",
       "    }\n",
       "</style>\n",
       "<table border=\"1\" class=\"dataframe\">\n",
       "  <thead>\n",
       "    <tr style=\"text-align: right;\">\n",
       "      <th></th>\n",
       "      <th>순위</th>\n",
       "      <th>카테고리</th>\n",
       "      <th>채널</th>\n",
       "      <th>구독자수</th>\n",
       "      <th>조회수</th>\n",
       "      <th>비디오수</th>\n",
       "    </tr>\n",
       "  </thead>\n",
       "  <tbody>\n",
       "    <tr>\n",
       "      <th>995</th>\n",
       "      <td>994</td>\n",
       "      <td>애완/반려동물</td>\n",
       "      <td>김메주와 고양이들</td>\n",
       "      <td>580,000</td>\n",
       "      <td>209,780,000</td>\n",
       "      <td>1,060</td>\n",
       "    </tr>\n",
       "    <tr>\n",
       "      <th>996</th>\n",
       "      <td>997</td>\n",
       "      <td>미분류</td>\n",
       "      <td>일주어터</td>\n",
       "      <td>580,000</td>\n",
       "      <td>118,380,000</td>\n",
       "      <td>194</td>\n",
       "    </tr>\n",
       "    <tr>\n",
       "      <th>997</th>\n",
       "      <td>1001</td>\n",
       "      <td>미분류</td>\n",
       "      <td>쏘대장</td>\n",
       "      <td>580,000</td>\n",
       "      <td>131,650,000</td>\n",
       "      <td>352</td>\n",
       "    </tr>\n",
       "    <tr>\n",
       "      <th>998</th>\n",
       "      <td>1000</td>\n",
       "      <td>영화/만화/애니</td>\n",
       "      <td>네이버 웹툰</td>\n",
       "      <td>580,000</td>\n",
       "      <td>432,110,000</td>\n",
       "      <td>833</td>\n",
       "    </tr>\n",
       "    <tr>\n",
       "      <th>999</th>\n",
       "      <td>999</td>\n",
       "      <td>음악/댄스/가수</td>\n",
       "      <td>DanalEntertainment</td>\n",
       "      <td>580,000</td>\n",
       "      <td>316,800,000</td>\n",
       "      <td>10,089</td>\n",
       "    </tr>\n",
       "  </tbody>\n",
       "</table>\n",
       "</div>"
      ],
      "text/plain": [
       "       순위      카테고리                  채널     구독자수          조회수    비디오수\n",
       "995   994   애완/반려동물           김메주와 고양이들  580,000  209,780,000   1,060\n",
       "996   997       미분류                일주어터  580,000  118,380,000     194\n",
       "997  1001       미분류                 쏘대장  580,000  131,650,000     352\n",
       "998  1000  영화/만화/애니              네이버 웹툰  580,000  432,110,000     833\n",
       "999   999  음악/댄스/가수  DanalEntertainment  580,000  316,800,000  10,089"
      ]
     },
     "execution_count": 57,
     "metadata": {},
     "output_type": "execute_result"
    }
   ],
   "source": [
    "df = pd.DataFrame(lines, columns = ['순위','카테고리','채널','구독자수','조회수','비디오수'])\n",
    "for column in df.columns[3:]:\n",
    "    df[column] = df[column].apply(convert_unit)\n",
    "df.tail()"
   ]
  },
  {
   "cell_type": "markdown",
   "metadata": {},
   "source": [
    "- Step 7"
   ]
  },
  {
   "cell_type": "code",
   "execution_count": 58,
   "metadata": {},
   "outputs": [],
   "source": [
    "driver.close()"
   ]
  },
  {
   "cell_type": "code",
   "execution_count": 59,
   "metadata": {},
   "outputs": [],
   "source": [
    "df.to_csv('YouTube랭킹.csv', index=False)"
   ]
  }
 ],
 "metadata": {
  "interpreter": {
   "hash": "ed225720166559e7176d3793db16a2fd8d295f725007103b21ac3099d2a89ee8"
  },
  "kernelspec": {
   "display_name": "Python 3.9.7 ('base')",
   "language": "python",
   "name": "python3"
  },
  "language_info": {
   "codemirror_mode": {
    "name": "ipython",
    "version": 3
   },
   "file_extension": ".py",
   "mimetype": "text/x-python",
   "name": "python",
   "nbconvert_exporter": "python",
   "pygments_lexer": "ipython3",
   "version": "3.9.7"
  },
  "orig_nbformat": 4
 },
 "nbformat": 4,
 "nbformat_minor": 2
}
